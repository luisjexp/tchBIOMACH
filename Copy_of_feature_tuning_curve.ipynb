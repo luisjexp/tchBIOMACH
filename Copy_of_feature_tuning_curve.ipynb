{
  "nbformat": 4,
  "nbformat_minor": 0,
  "metadata": {
    "colab": {
      "name": "Copy of feature_tuning_curve.ipynb",
      "provenance": [],
      "toc_visible": true,
      "collapsed_sections": [],
      "authorship_tag": "ABX9TyOH8vBzcTDgbH/J7YZmZ8RQ",
      "include_colab_link": true
    },
    "kernelspec": {
      "name": "python3",
      "display_name": "Python 3"
    },
    "language_info": {
      "name": "python"
    }
  },
  "cells": [
    {
      "cell_type": "markdown",
      "metadata": {
        "id": "view-in-github",
        "colab_type": "text"
      },
      "source": [
        "<a href=\"https://colab.research.google.com/github/luisjexp/tchBIOMACH/blob/main/Copy_of_feature_tuning_curve.ipynb\" target=\"_parent\"><img src=\"https://colab.research.google.com/assets/colab-badge.svg\" alt=\"Open In Colab\"/></a>"
      ]
    },
    {
      "cell_type": "markdown",
      "source": [
        "# Orientation Tuning"
      ],
      "metadata": {
        "id": "dIVObC09Ai80"
      }
    },
    {
      "cell_type": "markdown",
      "source": [
        "## Orientation Tuned Cells\n",
        "All known mammals have visual neurons, or 'units', that are *tuned to the orientation*  of elongated stimuli. For example, when you turn your gaze towards a grating composed of vertical bars, a set of neurons begin become activated. There are several key properties about these cells...\n",
        "\n",
        "> When a neuron is **tuned to orientation**, it will respond specifically to a stimulus is elongated, not stimulus that is circular in shape\n",
        "\n",
        "> The neurons also exhibit a *base line* level of activation, firing every so often, even when not being stimluated.\n",
        "\n",
        "> Each unit has a **preferred orientation**. It activates most when a stimulus is at a particular orientation. Different units have different preferred orientations.\n",
        "\n",
        "> Although a unit has a preferred orientation, it will also respond, though less strongly, to stimuli in somewhat different directions. The strength of the unit's response is inversely related to the difference between its preferred orientation and the orientation of the stimulus. The large this difference, the weaker the response. \n",
        "\n",
        "## Tuning Curves\n",
        "We can visualize these properties using a simple plot, known as the orientation tuning curve. \n",
        "\n",
        "Orientation Tuning curves are a description of a neurons output in response to an oriented stimulus. A classical tuning curve of orientation selective neurons is roughly bell shaped, ![shown here in figure A]\n",
        "\n",
        "## Visualization Excercise\n",
        "Lets try to draw our own tuning curves. We will draw several tuning curves for diffrent cells each with a unique otienration preference. \n"
      ],
      "metadata": {
        "id": "NJLcWsxqAnei"
      }
    },
    {
      "cell_type": "code",
      "source": [
        "# Importing required libraries\n",
        " \n",
        "import numpy as np\n",
        "import matplotlib.pyplot as plt\n",
        "import pandas as pd\n",
        "import math\n",
        "\n",
        "# Creating a series of data of in range of 1 180.\n",
        "ori_vals = np.linspace(1,180,30)\n",
        " \n",
        "#Creating a Function.\n",
        "def normal_dist(ori_vals , mean , sd):\n",
        "    Y = 10000 * np.exp(-0.5*((ori_vals-mean)/sd)**2)\n",
        "    return Y\n",
        " \n",
        "\n",
        "data = []\n",
        "ori_pref_list = [0, 30, 60, 90, 120, 150, 180]\n",
        "\n",
        "for t, i in enumerate(ori_pref_list):\n",
        "  response = normal_dist(ori_vals,i,15)\n",
        "  data.append(dict(zip(ori_vals, response)))\n",
        "  df = pd.DataFrame(data) \n",
        "  df.iloc[t].plot()\n",
        "\n",
        "plt.xlabel('Stimulus Orientation')\n",
        "plt.ylabel('Neurons Response')\n",
        "\n",
        "#Plotting the Results\n",
        "\n",
        "\n",
        "\n"
      ],
      "metadata": {
        "id": "f-TVs3TYBWAx"
      },
      "execution_count": null,
      "outputs": []
    },
    {
      "cell_type": "code",
      "source": [
        ""
      ],
      "metadata": {
        "id": "s7Hxn4HMS65K"
      },
      "execution_count": null,
      "outputs": []
    },
    {
      "cell_type": "code",
      "source": [
        ""
      ],
      "metadata": {
        "id": "7SRsSRIiMlAG"
      },
      "execution_count": null,
      "outputs": []
    }
  ]
}